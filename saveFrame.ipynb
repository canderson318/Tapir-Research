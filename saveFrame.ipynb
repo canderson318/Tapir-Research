{
 "cells": [
  {
   "attachments": {},
   "cell_type": "markdown",
   "metadata": {},
   "source": [
    "## Convert a mp4 file to a jpg of specified frame number"
   ]
  },
  {
   "attachments": {},
   "cell_type": "markdown",
   "metadata": {},
   "source": [
    "### 1. Define the function "
   ]
  },
  {
   "attachments": {},
   "cell_type": "markdown",
   "metadata": {},
   "source": [
    "This program uses the opencv (open computer vision) to read video files without opening them to the display. The OS package allows the code to communicate with the computer's files and read them into the cv2 functions. \n",
    "\n"
   ]
  },
  {
   "attachments": {},
   "cell_type": "markdown",
   "metadata": {},
   "source": [
    "Use <code> pip install opencv-python' </code>  in the terminal to get the required package on your machine. OS is a base package"
   ]
  },
  {
   "cell_type": "code",
   "execution_count": 1,
   "metadata": {},
   "outputs": [],
   "source": [
    "import cv2\n",
    "import os\n",
    "\n",
    "\n",
    "def save_frame(video_path, frame_num, result_path):\n",
    "    #save the video to a cv2 data type \n",
    "    cap = cv2.VideoCapture(video_path)\n",
    "    \n",
    "    #check if the video was successfully read\n",
    "    if not cap.isOpened():\n",
    "        return print(\"cap not open\")\n",
    "\n",
    "    #make location for new file where image will go\n",
    "    os.makedirs(os.path.dirname(result_path), exist_ok=True)\n",
    "\n",
    "    #use set function to change the video to a specific frame\n",
    "    cap.set(cv2.CAP_PROP_POS_FRAMES, frame_num)\n",
    "    \n",
    "    #read frame to another object from \n",
    "    ret, frame = cap.read()\n",
    "\n",
    "    if ret:\n",
    "        cv2.imwrite(result_path, frame) #write new image to new path\n",
    "        print(result_path, \"created\")\n",
    "\n",
    "    cap.release()#close opened file\n",
    "    cv2.destroyAllWindows() #clear data\n"
   ]
  },
  {
   "attachments": {},
   "cell_type": "markdown",
   "metadata": {},
   "source": [
    "**Here's an example using this function.**<br> The function needs the video path, desired frame number, and the result directory with a new name or same name but different type tag, i.e., .jpg.<br> Make sure your paths use foward slashes \"/\" or at least escaped backslashes \"\\\\\"; also, there mustn't be any unreadable characters like accented letters, etc.."
   ]
  },
  {
   "cell_type": "code",
   "execution_count": 3,
   "metadata": {},
   "outputs": [
    {
     "name": "stdout",
     "output_type": "stream",
     "text": [
      "C:/Users/chris/Documents/Research/WildID/VALLEdeSILENCIO_2023(mp4_jpg)/VALLE DE SILENCIO/converted/VIDEO-2022-10-04-14-22-57.jpg created\n"
     ]
    }
   ],
   "source": [
    "save_frame(\"C:/Users/chris/Documents/Research/WildID/VALLEdeSILENCIO_2023(mp4_jpg)/VALLE DE SILENCIO/VIDEO-2022-10-04-14-22-57.mp4\", 1, \n",
    "\"C:/Users/chris/Documents/Research/WildID/VALLEdeSILENCIO_2023(mp4_jpg)/VALLE DE SILENCIO/converted/VIDEO-2022-10-04-14-22-57.jpg\")"
   ]
  },
  {
   "attachments": {},
   "cell_type": "markdown",
   "metadata": {},
   "source": [
    "This function can theoretically iterate through each file in a parent directory and convert each one. "
   ]
  },
  {
   "cell_type": "code",
   "execution_count": 4,
   "metadata": {},
   "outputs": [],
   "source": [
    "\n",
    "#lopp through folder and convert each vid to image and put each into a new folder within that directory\n",
    "def vid_convert(vid_dir):\n",
    "    if not (vid_dir[-1] == \"/\") or (\"\\\\\" in vid_dir):  #check that slashes arent wonky\n",
    "        return print(\"vid_dir path faulty\")\n",
    "    \n",
    "    else: \n",
    "        files= os.listdir(vid_dir)\n",
    "        result_path = vid_dir +\"new/\"\n",
    "        for file_name in files:\n",
    "            video_path= vid_dir + file_name\n",
    "            pic_path = result_path+file_name[:-4] + \".jpg\" #make image same name but jpg\n",
    "            save_frame(video_path, 1, pic_path)\n",
    "\n",
    "\n",
    "\n"
   ]
  },
  {
   "attachments": {},
   "cell_type": "markdown",
   "metadata": {},
   "source": [
    "### make list of folder paths"
   ]
  },
  {
   "cell_type": "code",
   "execution_count": null,
   "metadata": {},
   "outputs": [],
   "source": [
    "# folders= os.listdir(\"C:/Users/chris/Documents/Research/WildID/VALLEdeSILENCIO_2023(mp4_jpg)/VALLE DE SILENCIO/La Amistad monitoring Oko jaguara\") #creates a list of filenames\n",
    "# directory= \"C:/Users/chris/Documents/Research/WildID/VALLEdeSILENCIO_2023(mp4_jpg)/VALLE DE SILENCIO/La Amistad monitoring Oko jaguara/\"\n",
    "# folder_paths = []\n",
    "# for item in folders:\n",
    "#     folder_paths.append(directory+item)\n",
    "\n",
    "# k=0\n",
    "# for i in folder_paths: #list of folder paths\n",
    "#     if  i[-4:] != \".zip\":\n",
    "#         print(k,\": \",i)\n",
    "#         k+=1"
   ]
  },
  {
   "attachments": {},
   "cell_type": "markdown",
   "metadata": {},
   "source": [
    "### For each folder path and file, convert it to jpg"
   ]
  },
  {
   "attachments": {},
   "cell_type": "markdown",
   "metadata": {},
   "source": [
    "Be carefull pasting file paths from file explorer; ensure that they are all foward slashes or escaped backslashes (\"\\\\\\\\\")"
   ]
  },
  {
   "cell_type": "code",
   "execution_count": null,
   "metadata": {},
   "outputs": [],
   "source": [
    "\n",
    "path = \"C:/Users/chris/Documents/Research/WildID/VALLEdeSILENCIO_2023(mp4_jpg)/VALLE DE SILENCIO/La Amistad monitoring Oko jaguara/\" #parent path\n",
    "path+= \"3 km - No 12 - 9.0433114N, 82.9948057W/21.8.-21.9\" # specific directory where videos are stored\n",
    "\n",
    "if path[-1] != \"/\":\n",
    "        path += \"/\" #add slash if not there (added because I keep forgetting)\n",
    "\n",
    "files= os.listdir(path)#make list of files within video directory\n",
    "\n",
    "for file_name in files: #iterate through each filename\n",
    "        vid_path= path+file_name #append filename to path\n",
    "\n",
    "        #go up a level to be sibling of image directory (this makes an image folder separate from vid folder for convenience)\n",
    "        new_path = path.rsplit(\"/\", 2 )[0] #split path string into two two times, working from the right until first occurance of \"/\". And then use the first item of split [0]. \n",
    "\n",
    "        if new_path[-1] != \"/\":\n",
    "                new_path += \"/\" #make sure end slash\n",
    "\n",
    "        new_path +=  \"images/\" #make new folder as sibling to vid folder\n",
    "        new_path += file_name[:-4] + \".jpg\" #make same name with different tag\n",
    "\n",
    "        save_frame(vid_path, 1, new_path) #run function on video path for first frame; output to new path\n",
    "        print(file_name+\".jpg created\", sep= '')"
   ]
  },
  {
   "attachments": {},
   "cell_type": "markdown",
   "metadata": {},
   "source": [
    "### Attempts to convert slashes automatically"
   ]
  },
  {
   "cell_type": "code",
   "execution_count": 35,
   "metadata": {},
   "outputs": [],
   "source": [
    "\n",
    "with open(\"paths.txt\", 'w') as file:\n",
    "    for path in paths:\n",
    "        file.write(path+ '\\n')\n",
    "    \n",
    "\n",
    "    # path =  path.replace('\\\\', \"\\\\\\\\\")\n",
    "    # new_path = path[:-4]+\".jpg\"\n",
    "    # save_frame(path, 1, new_path)"
   ]
  },
  {
   "cell_type": "code",
   "execution_count": 36,
   "metadata": {},
   "outputs": [
    {
     "name": "stdout",
     "output_type": "stream",
     "text": [
      "C:/Users/chris/Documents/Research/WildID/VALLEdeSILENCIO_2023(mp4_jpg)/VALLE DE SILENCIO/La Amistad monitoring Oko jaguara/1 km - No 1 - 9.0322142N, 83.0011695W/21.8.-21.9/VD_00006..jpg created\n",
      "C:/Users/chris/Documents/Research/WildID/VALLEdeSILENCIO_2023(mp4_jpg)/VALLE DE SILENCIO/La Amistad monitoring Oko jaguara/1 km - No 1 - 9.0322142N, 83.0011695W/21.8.-21.9/VD_00008..jpg created\n",
      "C:/Users/chris/Documents/Research/WildID/VALLEdeSILENCIO_2023(mp4_jpg)/VALLE DE SILENCIO/La Amistad monitoring Oko jaguara/1 km - No 1 - 9.0322142N, 83.0011695W/21.8.-21.9/VD_00015..jpg created\n",
      "C:/Users/chris/Documents/Research/WildID/VALLEdeSILENCIO_2023(mp4_jpg)/VALLE DE SILENCIO/La Amistad monitoring Oko jaguara/1 km - No 1 - 9.0322142N, 83.0011695W/21.8.-21.9/VD_00016..jpg created\n",
      "C:/Users/chris/Documents/Research/WildID/VALLEdeSILENCIO_2023(mp4_jpg)/VALLE DE SILENCIO/La Amistad monitoring Oko jaguara/1 km - No 1 - 9.0322142N, 83.0011695W/21.8.-21.9/VD_00020..jpg created\n",
      "C:/Users/chris/Documents/Research/WildID/VALLEdeSILENCIO_2023(mp4_jpg)/VALLE DE SILENCIO/La Amistad monitoring Oko jaguara/1 km - No 1 - 9.0322142N, 83.0011695W/21.8.-21.9/VD_00021..jpg created\n",
      "C:/Users/chris/Documents/Research/WildID/VALLEdeSILENCIO_2023(mp4_jpg)/VALLE DE SILENCIO/La Amistad monitoring Oko jaguara/1 km - No 1 - 9.0322142N, 83.0011695W/21.8.-21.9/VD_00022..jpg created\n",
      "C:/Users/chris/Documents/Research/WildID/VALLEdeSILENCIO_2023(mp4_jpg)/VALLE DE SILENCIO/La Amistad monitoring Oko jaguara/1 km - No 1 - 9.0322142N, 83.0011695W/21.8.-21.9/VD_00023..jpg created\n",
      "C:/Users/chris/Documents/Research/WildID/VALLEdeSILENCIO_2023(mp4_jpg)/VALLE DE SILENCIO/La Amistad monitoring Oko jaguara/1 km - No 1 - 9.0322142N, 83.0011695W/21.8.-21.9/VD_00024..jpg created\n",
      "C:/Users/chris/Documents/Research/WildID/VALLEdeSILENCIO_2023(mp4_jpg)/VALLE DE SILENCIO/La Amistad monitoring Oko jaguara/1 km - No 1 - 9.0322142N, 83.0011695W/21.8.-21.9/VD_00025..jpg created\n",
      "C:/Users/chris/Documents/Research/WildID/VALLEdeSILENCIO_2023(mp4_jpg)/VALLE DE SILENCIO/La Amistad monitoring Oko jaguara/1 km - No 1 - 9.0322142N, 83.0011695W/21.8.-21.9/VD_00029..jpg created\n",
      "C:/Users/chris/Documents/Research/WildID/VALLEdeSILENCIO_2023(mp4_jpg)/VALLE DE SILENCIO/La Amistad monitoring Oko jaguara/1 km - No 1 - 9.0322142N, 83.0011695W/21.8.-21.9/VD_00030..jpg created\n",
      "C:/Users/chris/Documents/Research/WildID/VALLEdeSILENCIO_2023(mp4_jpg)/VALLE DE SILENCIO/La Amistad monitoring Oko jaguara/1 km - No 1 - 9.0322142N, 83.0011695W/21.8.-21.9/VD_00042..jpg created\n",
      "C:/Users/chris/Documents/Research/WildID/VALLEdeSILENCIO_2023(mp4_jpg)/VALLE DE SILENCIO/La Amistad monitoring Oko jaguara/1 km - No 1 - 9.0322142N, 83.0011695W/21.8.-21.9/VD_00046..jpg created\n",
      "C:/Users/chris/Documents/Research/WildID/VALLEdeSILENCIO_2023(mp4_jpg)/VALLE DE SILENCIO/La Amistad monitoring Oko jaguara/1 km - No 1 - 9.0322142N, 83.0011695W/21.8.-21.9/VD_00047..jpg created\n",
      "C:/Users/chris/Documents/Research/WildID/VALLEdeSILENCIO_2023(mp4_jpg)/VALLE DE SILENCIO/La Amistad monitoring Oko jaguara/1 km - No 1 - 9.0322142N, 83.0011695W/21.8.-21.9/VD_00048..jpg created\n",
      "C:/Users/chris/Documents/Research/WildID/VALLEdeSILENCIO_2023(mp4_jpg)/VALLE DE SILENCIO/La Amistad monitoring Oko jaguara/1 km - No 1 - 9.0322142N, 83.0011695W/21.8.-21.9/VD_00049..jpg created\n",
      "C:/Users/chris/Documents/Research/WildID/VALLEdeSILENCIO_2023(mp4_jpg)/VALLE DE SILENCIO/La Amistad monitoring Oko jaguara/1 km - No 1 - 9.0322142N, 83.0011695W/21.8.-21.9/VD_00050..jpg created\n",
      "C:/Users/chris/Documents/Research/WildID/VALLEdeSILENCIO_2023(mp4_jpg)/VALLE DE SILENCIO/La Amistad monitoring Oko jaguara/1 km - No 1 - 9.0322142N, 83.0011695W/21.8.-21.9/VD_00051..jpg created\n"
     ]
    }
   ],
   "source": [
    "with open(\"paths.txt\", 'r') as file:\n",
    "    for path in file:\n",
    "        new_path = path[:-4]+\".jpg\"\n",
    "        save_frame(path, 1, new_path)"
   ]
  }
 ],
 "metadata": {
  "kernelspec": {
   "display_name": "Python 3",
   "language": "python",
   "name": "python3"
  },
  "language_info": {
   "codemirror_mode": {
    "name": "ipython",
    "version": 3
   },
   "file_extension": ".py",
   "mimetype": "text/x-python",
   "name": "python",
   "nbconvert_exporter": "python",
   "pygments_lexer": "ipython3",
   "version": "3.10.11"
  },
  "orig_nbformat": 4
 },
 "nbformat": 4,
 "nbformat_minor": 2
}
