{
 "cells": [
  {
   "attachments": {},
   "cell_type": "markdown",
   "metadata": {},
   "source": [
    "### Replace destination files with its files that exist in another directory"
   ]
  },
  {
   "cell_type": "code",
   "execution_count": 1,
   "metadata": {},
   "outputs": [],
   "source": [
    "import os\n",
    "import shutil"
   ]
  },
  {
   "cell_type": "code",
   "execution_count": 2,
   "metadata": {},
   "outputs": [],
   "source": [
    "def copy_existing_files(source_dir, destination_dir):\n",
    "    # Get the list of files in the source directory\n",
    "    source_files = os.listdir(source_dir)\n",
    "    \n",
    "    # Iterate through the files in the source directory\n",
    "    for file_name in source_files:\n",
    "        source_file_path = os.path.join(source_dir, file_name)\n",
    "        destination_file_path = os.path.join(destination_dir, file_name)\n",
    "        \n",
    "        # Check if the file exists in the destination directory\n",
    "        if os.path.isfile(destination_file_path):\n",
    "            # Replace the existing file with the one from the source directory\n",
    "            shutil.copy2(source_file_path, destination_file_path)\n",
    "            print(f\"Replaced: {destination_file_path}\")\n",
    "            \n",
    "        else:\n",
    "            print(f\"Skipping: {destination_file_path} (File does not exist)\")\n",
    "\n",
    "\n"
   ]
  },
  {
   "cell_type": "code",
   "execution_count": 3,
   "metadata": {},
   "outputs": [
    {
     "name": "stdout",
     "output_type": "stream",
     "text": [
      "Replaced: WildID/AnimalsNew/KAMUK_13\\11140007.JPG\n",
      "Replaced: WildID/AnimalsNew/KAMUK_13\\11160064.JPG\n",
      "Replaced: WildID/AnimalsNew/KAMUK_13\\11160066.JPG\n",
      "Replaced: WildID/AnimalsNew/KAMUK_13\\11160068.JPG\n",
      "Replaced: WildID/AnimalsNew/KAMUK_13\\11160069.JPG\n",
      "Replaced: WildID/AnimalsNew/KAMUK_13\\11210127.JPG\n",
      "Replaced: WildID/AnimalsNew/KAMUK_13\\11210128.JPG\n",
      "Replaced: WildID/AnimalsNew/KAMUK_13\\11210129.JPG\n",
      "Replaced: WildID/AnimalsNew/KAMUK_13\\11270167.JPG\n",
      "Replaced: WildID/AnimalsNew/KAMUK_13\\11270168.JPG\n",
      "Replaced: WildID/AnimalsNew/KAMUK_13\\11300740.JPG\n",
      "Replaced: WildID/AnimalsNew/KAMUK_13\\11300741.JPG\n",
      "Replaced: WildID/AnimalsNew/KAMUK_13\\11300742.JPG\n",
      "Replaced: WildID/AnimalsNew/KAMUK_13\\11300743.JPG\n",
      "Replaced: WildID/AnimalsNew/KAMUK_13\\11300744.JPG\n",
      "Replaced: WildID/AnimalsNew/KAMUK_13\\11300745.JPG\n",
      "Replaced: WildID/AnimalsNew/KAMUK_13\\11300748.JPG\n",
      "Replaced: WildID/AnimalsNew/KAMUK_13\\12020212.JPG\n",
      "Replaced: WildID/AnimalsNew/KAMUK_13\\12020214.JPG\n",
      "Replaced: WildID/AnimalsNew/KAMUK_13\\12020215.JPG\n",
      "Replaced: WildID/AnimalsNew/KAMUK_13\\12020216.JPG\n",
      "Replaced: WildID/AnimalsNew/KAMUK_13\\12040469.JPG\n",
      "Replaced: WildID/AnimalsNew/KAMUK_13\\12040470.JPG\n",
      "Replaced: WildID/AnimalsNew/KAMUK_13\\12070985.JPG\n",
      "Replaced: WildID/AnimalsNew/KAMUK_13\\12070986.JPG\n",
      "Replaced: WildID/AnimalsNew/KAMUK_13\\12070987.JPG\n",
      "Replaced: WildID/AnimalsNew/KAMUK_13\\12070988.JPG\n",
      "Replaced: WildID/AnimalsNew/KAMUK_13\\12070989.JPG\n",
      "Replaced: WildID/AnimalsNew/KAMUK_13\\12070990.JPG\n",
      "Replaced: WildID/AnimalsNew/KAMUK_13\\12070991.JPG\n",
      "Replaced: WildID/AnimalsNew/KAMUK_13\\12090037.JPG\n",
      "Replaced: WildID/AnimalsNew/KAMUK_13\\12090038.JPG\n",
      "Replaced: WildID/AnimalsNew/KAMUK_13\\12090039.JPG\n",
      "Replaced: WildID/AnimalsNew/KAMUK_13\\12120100.JPG\n",
      "Replaced: WildID/AnimalsNew/KAMUK_13\\12120101.JPG\n",
      "Replaced: WildID/AnimalsNew/KAMUK_13\\12120102.JPG\n",
      "Replaced: WildID/AnimalsNew/KAMUK_13\\12130103.JPG\n",
      "Replaced: WildID/AnimalsNew/KAMUK_13\\12130104.JPG\n",
      "Replaced: WildID/AnimalsNew/KAMUK_13\\12130106.JPG\n",
      "Replaced: WildID/AnimalsNew/KAMUK_13\\12130107.JPG\n",
      "Replaced: WildID/AnimalsNew/KAMUK_13\\12130109.JPG\n",
      "Replaced: WildID/AnimalsNew/KAMUK_13\\12130112.JPG\n",
      "Replaced: WildID/AnimalsNew/KAMUK_13\\12130113.JPG\n",
      "Replaced: WildID/AnimalsNew/KAMUK_13\\12130114.JPG\n",
      "Replaced: WildID/AnimalsNew/KAMUK_13\\12150116.JPG\n",
      "Replaced: WildID/AnimalsNew/KAMUK_13\\12180328.JPG\n",
      "Replaced: WildID/AnimalsNew/KAMUK_13\\12180329.JPG\n",
      "Replaced: WildID/AnimalsNew/KAMUK_13\\12180330.JPG\n",
      "Replaced: WildID/AnimalsNew/KAMUK_13\\12190332.JPG\n",
      "Replaced: WildID/AnimalsNew/KAMUK_13\\12190333.JPG\n",
      "Replaced: WildID/AnimalsNew/KAMUK_13\\12200334.JPG\n",
      "Replaced: WildID/AnimalsNew/KAMUK_13\\12200335.JPG\n",
      "Replaced: WildID/AnimalsNew/KAMUK_13\\12200336.JPG\n",
      "Replaced: WildID/AnimalsNew/KAMUK_13\\12200338.JPG\n",
      "Replaced: WildID/AnimalsNew/KAMUK_13\\12200339.JPG\n",
      "Replaced: WildID/AnimalsNew/KAMUK_13\\12200340.JPG\n",
      "Replaced: WildID/AnimalsNew/KAMUK_13\\12200341.JPG\n",
      "Replaced: WildID/AnimalsNew/KAMUK_13\\12200342.JPG\n",
      "Replaced: WildID/AnimalsNew/KAMUK_13\\12200343.JPG\n",
      "Replaced: WildID/AnimalsNew/KAMUK_13\\12200344.JPG\n",
      "Replaced: WildID/AnimalsNew/KAMUK_13\\12200345.JPG\n",
      "Replaced: WildID/AnimalsNew/KAMUK_13\\12210364.JPG\n"
     ]
    }
   ],
   "source": [
    "# Example usage\n",
    "#cams= os.listdir(\"WildID/Amimals/\")\n",
    "#for camera in cams:\n",
    "camera= \"KAMUK_13\"\n",
    "source_directory = f\"WildID/Raw/{camera}\"\n",
    "destination_directory = f\"WildID/AnimalsNew/{camera}\"\n",
    "copy_existing_files(source_directory, destination_directory)\n"
   ]
  },
  {
   "cell_type": "code",
   "execution_count": 55,
   "metadata": {},
   "outputs": [
    {
     "name": "stdout",
     "output_type": "stream",
     "text": [
      "['KAMUK_1', 'KAMUK_11', 'KAMUK_12', 'KAMUK_13', 'KAMUK_14', 'KAMUK_15', 'KAMUK_2.1', 'KAMUK_3.1', 'KAMUK_4', 'KAMUK_5', 'KAMUK_6', 'KAMUK_7', 'KAMUK_8', 'KAMUK_9']\n"
     ]
    }
   ],
   "source": [
    "# src= os.listdir(\"WildID/Animals\")\n",
    "# dest= os.listdir(\"WildID/AnimalsNew/KAMUK_1\")\n",
    "# # for i in range(len(src)):\n",
    "# #     print(dest[i][:-4], src[i][:-4], sep='\\n')\n",
    "# #     print()\n",
    "# print(src)\n",
    "# print(len(dest))\n",
    "\n",
    "cams= os.listdir(\"WildID/Animals/\")\n",
    "print(cams)"
   ]
  }
 ],
 "metadata": {
  "kernelspec": {
   "display_name": "Python 3",
   "language": "python",
   "name": "python3"
  },
  "language_info": {
   "codemirror_mode": {
    "name": "ipython",
    "version": 3
   },
   "file_extension": ".py",
   "mimetype": "text/x-python",
   "name": "python",
   "nbconvert_exporter": "python",
   "pygments_lexer": "ipython3",
   "version": "3.10.11"
  },
  "orig_nbformat": 4
 },
 "nbformat": 4,
 "nbformat_minor": 2
}
